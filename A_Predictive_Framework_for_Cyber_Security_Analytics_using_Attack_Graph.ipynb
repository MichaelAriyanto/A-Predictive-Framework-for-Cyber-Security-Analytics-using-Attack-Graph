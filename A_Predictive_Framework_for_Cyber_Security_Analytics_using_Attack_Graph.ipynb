{
  "nbformat": 4,
  "nbformat_minor": 0,
  "metadata": {
    "colab": {
      "name": "A Predictive Framework for Cyber Security Analytics using Attack Graph.ipynb",
      "provenance": [],
      "collapsed_sections": []
    },
    "kernelspec": {
      "name": "python3",
      "display_name": "Python 3"
    }
  },
  "cells": [
    {
      "cell_type": "markdown",
      "metadata": {
        "id": "KYxU9JhbqNUa",
        "colab_type": "text"
      },
      "source": [
        ""
      ]
    },
    {
      "cell_type": "markdown",
      "metadata": {
        "id": "LgaKxh9ZmrPJ",
        "colab_type": "text"
      },
      "source": [
        "# **Proyek Probabilitas dan Stokastik (Probstok)**\n",
        "\n",
        "A Predictive Framework for Cyber Security Analytics using Attack Graph\n",
        "\n",
        "By:\n",
        "*   Michael Ariyanto / 1706043235\n",
        "*   Alexander Patrick / 1706043292\n",
        "*   Nicholas / 1706043254"
      ]
    },
    {
      "cell_type": "code",
      "metadata": {
        "id": "vYjvUbM5-ReV",
        "colab_type": "code",
        "outputId": "58b872a2-496f-4727-966a-02e6adbcc185",
        "colab": {
          "base_uri": "https://localhost:8080/",
          "height": 258
        }
      },
      "source": [
        "import pandas\n",
        "import numpy\n",
        "\n",
        "print('Cobham EXPLORER 710, firmware version 1.07')\n",
        "print('VULNERABILITY DATA')\n",
        "\n",
        "data = pandas.DataFrame ([\n",
        "                         {'Service Name' : 'Firmware Image', 'CVE-ID' : 'CVE-2019-9534', 'Exploitability Score' : '7.8'},\n",
        "                         {'Service Name' : 'No Access Restriction', 'CVE-ID' : 'CVE-2019-9530', 'Exploitability Score' : '5.5'},\n",
        "                         {'Service Name' : 'No Authentication', 'CVE-ID' : 'CVE-2019-9529', 'Exploitability Score' : '5.5'},\n",
        "                         {'Service Name' : 'Unauthenticated Access', 'CVE-ID' : 'CVE-2019-9531', 'Exploitability Score' : '9.8'},\n",
        "                         {'Service Name' : 'Clear Text', 'CVE-ID' : 'CVE-2019-9532', 'Exploitability Score' : '7.8'},\n",
        "                         {'Service Name' : 'Root Password', 'CVE-ID' : 'CVE-2019-9533', 'Exploitability Score' : '9.8'}\n",
        "                        ])\n",
        "\n",
        "data"
      ],
      "execution_count": 163,
      "outputs": [
        {
          "output_type": "stream",
          "text": [
            "Cobham EXPLORER 710, firmware version 1.07\n",
            "VULNERABILITY DATA\n"
          ],
          "name": "stdout"
        },
        {
          "output_type": "execute_result",
          "data": {
            "text/html": [
              "<div>\n",
              "<style scoped>\n",
              "    .dataframe tbody tr th:only-of-type {\n",
              "        vertical-align: middle;\n",
              "    }\n",
              "\n",
              "    .dataframe tbody tr th {\n",
              "        vertical-align: top;\n",
              "    }\n",
              "\n",
              "    .dataframe thead th {\n",
              "        text-align: right;\n",
              "    }\n",
              "</style>\n",
              "<table border=\"1\" class=\"dataframe\">\n",
              "  <thead>\n",
              "    <tr style=\"text-align: right;\">\n",
              "      <th></th>\n",
              "      <th>Service Name</th>\n",
              "      <th>CVE-ID</th>\n",
              "      <th>Exploitability Score</th>\n",
              "    </tr>\n",
              "  </thead>\n",
              "  <tbody>\n",
              "    <tr>\n",
              "      <th>0</th>\n",
              "      <td>Firmware Image</td>\n",
              "      <td>CVE-2019-9534</td>\n",
              "      <td>7.8</td>\n",
              "    </tr>\n",
              "    <tr>\n",
              "      <th>1</th>\n",
              "      <td>No Access Restriction</td>\n",
              "      <td>CVE-2019-9530</td>\n",
              "      <td>5.5</td>\n",
              "    </tr>\n",
              "    <tr>\n",
              "      <th>2</th>\n",
              "      <td>No Authentication</td>\n",
              "      <td>CVE-2019-9529</td>\n",
              "      <td>5.5</td>\n",
              "    </tr>\n",
              "    <tr>\n",
              "      <th>3</th>\n",
              "      <td>Unauthenticated Access</td>\n",
              "      <td>CVE-2019-9531</td>\n",
              "      <td>9.8</td>\n",
              "    </tr>\n",
              "    <tr>\n",
              "      <th>4</th>\n",
              "      <td>Clear Text</td>\n",
              "      <td>CVE-2019-9532</td>\n",
              "      <td>7.8</td>\n",
              "    </tr>\n",
              "    <tr>\n",
              "      <th>5</th>\n",
              "      <td>Root Password</td>\n",
              "      <td>CVE-2019-9533</td>\n",
              "      <td>9.8</td>\n",
              "    </tr>\n",
              "  </tbody>\n",
              "</table>\n",
              "</div>"
            ],
            "text/plain": [
              "             Service Name         CVE-ID Exploitability Score\n",
              "0          Firmware Image  CVE-2019-9534                  7.8\n",
              "1   No Access Restriction  CVE-2019-9530                  5.5\n",
              "2       No Authentication  CVE-2019-9529                  5.5\n",
              "3  Unauthenticated Access  CVE-2019-9531                  9.8\n",
              "4              Clear Text  CVE-2019-9532                  7.8\n",
              "5           Root Password  CVE-2019-9533                  9.8"
            ]
          },
          "metadata": {
            "tags": []
          },
          "execution_count": 163
        }
      ]
    },
    {
      "cell_type": "code",
      "metadata": {
        "id": "_0rB-FnApiWf",
        "colab_type": "code",
        "colab": {}
      },
      "source": [
        "import numpy as np\n",
        "import random as rm\n",
        "import pandas\n",
        "import matplotlib.pyplot as plt\n",
        "\n",
        "states = ['Firmware Image', \n",
        "          'No Access Restriction',\n",
        "          'No Authentication',\n",
        "          'Unauthenticated Access',\n",
        "          'Clear Text',\n",
        "          'Root Password']\n",
        "\n",
        "transition = [\n",
        "              ['AA', 'AB', 'AC', 'AD', 'AE', 'AF'],\n",
        "              ['BA', 'BB', 'BC', 'BD', 'BE', 'BF'],\n",
        "              ['CA', 'CB', 'CC', 'CD', 'CE', 'CF'],\n",
        "              ['DA', 'DB', 'DC', 'DD', 'DE', 'DF'],\n",
        "              ['EA', 'EB', 'EC', 'ED', 'EE', 'EF'],\n",
        "              ['FA', 'FB', 'FC', 'FD', 'FE', 'FF']\n",
        "             ]\n",
        "\n",
        "transitionmatrix = [\n",
        "                    [0,0.264,0.264,0.472,0,0],\n",
        "                    [0,0,0,0,0,1],\n",
        "                    [0,0.238,0,0.426,0.336,0],\n",
        "                    [0,0.192,0.192,0,0.271,0.345],\n",
        "                    [0,0.5,0.5,0,0,0],\n",
        "                    [0,0,0,0,0,1],\n",
        "                   ]\n",
        "\n",
        "def vulnerable(trial):\n",
        "  stateall = []\n",
        "  i = 0\n",
        "\n",
        "  while i != trial:\n",
        "    statelist = []\n",
        "    statenow = states[0]\n",
        "    statelist.append(statenow)\n",
        "    while statenow != states[5]:\n",
        "      if statenow == 'Firmware Image':\n",
        "        newstate = np.random.choice(transition[0], replace = True, p = transitionmatrix[0])\n",
        "        if newstate == 'AB':\n",
        "          statelist.append(states[1])\n",
        "          statenow = states[1]\n",
        "        elif newstate == 'AC':\n",
        "          statelist.append(states[2])\n",
        "          statenow = states[2]\n",
        "        elif newstate == 'AD':\n",
        "          statelist.append(states[3])\n",
        "          statenow = states[3]\n",
        "        else:\n",
        "          pass\n",
        "      elif statenow == 'No Access Restriction':\n",
        "        newstate = np.random.choice(transition[1], replace = True, p = transitionmatrix[1])\n",
        "        if newstate == 'BF':\n",
        "          statelist.append(states[5])\n",
        "          statenow = states[5]\n",
        "        else:\n",
        "          pass\n",
        "      elif statenow == 'No Authentication':\n",
        "        newstate = np.random.choice(transition[2], replace = True, p = transitionmatrix[2])\n",
        "        if newstate == 'CB':\n",
        "          statelist.append(states[1])\n",
        "          statenow = states[1]\n",
        "        elif newstate == 'CD':\n",
        "          statelist.append(states[3])\n",
        "          statenow = states[3]\n",
        "        elif newstate == 'CE':\n",
        "          statelist.append(states[4])\n",
        "          statenow = states[4]\n",
        "        else:\n",
        "          pass\n",
        "      elif statenow == 'Unauthenticated Access':\n",
        "        newstate = np.random.choice(transition[3], replace = True, p = transitionmatrix[3])\n",
        "        if newstate == 'DB':\n",
        "          statelist.append(states[1])\n",
        "          statenow = states[1]\n",
        "        elif newstate == 'DC':\n",
        "          statelist.append(states[2])\n",
        "          statenow = states[2]\n",
        "        elif newstate == 'DE':\n",
        "          statelist.append(states[4])\n",
        "          statenow = states[4]\n",
        "        elif newstate == 'DF':\n",
        "          statelist.append(states[5])\n",
        "          statenow = states[5]\n",
        "        else:\n",
        "          pass\n",
        "      elif statenow == 'Clear Text':\n",
        "        newstate = np.random.choice(transition[4], replace = True, p = transitionmatrix[4])\n",
        "        if newstate == 'EB':\n",
        "          statelist.append(states[1])\n",
        "          statenow = states[1]\n",
        "        elif newstate == 'EC':\n",
        "          statelist.append(states[2])\n",
        "          statenow = states[2]\n",
        "        else:\n",
        "          pass\n",
        "    stateall.append(statelist)\n",
        "    i += 1\n",
        "  \n",
        "  #print('\\n'.join([str(lst) for lst in stateall]))\n",
        "\n",
        "  count(stateall)"
      ],
      "execution_count": 0,
      "outputs": []
    },
    {
      "cell_type": "code",
      "metadata": {
        "id": "9TsG4j7MZIJz",
        "colab_type": "code",
        "colab": {}
      },
      "source": [
        "def count(stateall):\n",
        "  A = 0\n",
        "  B = 0\n",
        "  C = 0\n",
        "  D = 0\n",
        "  E = 0\n",
        "  F = 0\n",
        "\n",
        "  for x in range(len(stateall)):\n",
        "    for y in range(len(stateall[x])):\n",
        "      if stateall[x][y] == 'Firmware Image':\n",
        "        A += 1\n",
        "      elif stateall[x][y] == 'No Access Restriction':\n",
        "        B += 1\n",
        "      elif stateall[x][y] == 'No Authentication':\n",
        "        C += 1\n",
        "      elif stateall[x][y] == 'Unauthenticated Access':\n",
        "        D += 1\n",
        "      elif stateall[x][y] == 'Clear Text':\n",
        "        E += 1\n",
        "      elif stateall[x][y] == 'Root Password':\n",
        "        F += 1\n",
        "\n",
        "  vulnerability = pandas.DataFrame([\n",
        "                                    {'State': 'Firmware Image', 'Vulnerability' : A},\n",
        "                                    {'State': 'No Access Restriction', 'Vulnerability' : B},\n",
        "                                    {'State': 'No Authenticatione', 'Vulnerability' : C},\n",
        "                                    {'State': 'Unauthenticated Access', 'Vulnerability' : D},\n",
        "                                    {'State': 'Clear Text', 'Vulnerability' : E},\n",
        "                                    {'State': 'Root Password', 'Vulnerability' : F}\n",
        "                                  ])\n",
        "  vulnerability\n",
        "\n",
        "  lststate = []\n",
        "  lststate.append(A)\n",
        "  lststate.append(B)\n",
        "  lststate.append(C)\n",
        "  lststate.append(D)\n",
        "  lststate.append(E)\n",
        "  lststate.append(F)  \n",
        "\n",
        "  plt.plot(lststate, color='green', linestyle='dashed', linewidth = 3, \n",
        "         marker='o', markerfacecolor='blue', markersize=12)\n",
        "  plt.xlim(0,5)\n",
        "  plt.ylim(0,70)\n",
        "  plt.xlabel('State')\n",
        "  plt.ylabel('Vulnerability')\n",
        "  plt.title('Vulnerability')"
      ],
      "execution_count": 0,
      "outputs": []
    },
    {
      "cell_type": "code",
      "metadata": {
        "id": "YKrNce7MZQNb",
        "colab_type": "code",
        "colab": {
          "base_uri": "https://localhost:8080/",
          "height": 295
        },
        "outputId": "8cc843fc-5ff5-4e3b-8337-707715e5e6e6"
      },
      "source": [
        "vulnerable(50)"
      ],
      "execution_count": 184,
      "outputs": [
        {
          "output_type": "display_data",
          "data": {
            "image/png": "[encoded data removed]",
            "text/plain": [
              "<Figure size 432x288 with 1 Axes>"
            ]
          },
          "metadata": {
            "tags": []
          }
        }
      ]
    },
    {
      "cell_type": "markdown",
      "metadata": {
        "id": "eHcFJroLnwyE",
        "colab_type": "text"
      },
      "source": [
        "From the graph above, we can conclude that State 3 of 'Unauthenticated Access' is the most vulnerable spot in the 'Cobham EXPLORER 710, firmware version 1.07' and must be patched as fast as possible. We ignore State 0 of 'Firmware Image' and State 5 of 'Root Password' since they both the start and the end if an attack happened."
      ]
    }
  ]
}